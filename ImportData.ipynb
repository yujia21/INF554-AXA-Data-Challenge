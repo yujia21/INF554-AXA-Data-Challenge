{
 "cells": [
  {
   "cell_type": "code",
   "execution_count": 3,
   "metadata": {
    "collapsed": true
   },
   "outputs": [],
   "source": [
    "# Import libraries\n",
    "import pandas as pd\n",
    "import numpy as np\n",
    "import matplotlib.pyplot as plt\n",
    "get_ipython().magic('matplotlib inline')\n",
    "\n",
    "# README : If data/xx.npy does not exist, change to False\n",
    "imported_data=True"
   ]
  },
  {
   "cell_type": "code",
   "execution_count": 4,
   "metadata": {
    "collapsed": true
   },
   "outputs": [],
   "source": [
    "# Read submission data\n",
    "submission = pd.read_csv('submission.txt', sep='\\t')\n",
    "\n",
    "# Stock list of services to predict\n",
    "ass_list=submission['ASS_ASSIGNMENT'].unique()"
   ]
  },
  {
   "cell_type": "code",
   "execution_count": 5,
   "metadata": {
    "collapsed": true
   },
   "outputs": [],
   "source": [
    "# Import data\n",
    "# GIVEN: DATE, ASS_ASSIGNMENT\n",
    "# PREDICT : CSPL_CALLS\n",
    "if not imported_data : \n",
    "    fields = ['DATE', 'ASS_ASSIGNMENT','CSPL_CALLS']\n",
    "    df = pd.read_csv('train_2011_2012_2013.csv', sep=';', usecols=fields)"
   ]
  },
  {
   "cell_type": "code",
   "execution_count": 6,
   "metadata": {
    "collapsed": true
   },
   "outputs": [],
   "source": [
    "if not imported_data :    \n",
    "    # Convert date field entries to datetime64[ns] type\n",
    "    df['DATE']=pd.to_datetime(df['DATE'])\n",
    "    \n",
    "    # Separating by service\n",
    "    for x in ass_list : \n",
    "        # Create smaller df with just that service, cols = datetime and # of calls\n",
    "        ass=df[df['ASS_ASSIGNMENT']==x][['DATE','CSPL_CALLS']]\n",
    "\n",
    "        # Convert to nparray, export\n",
    "        np.save('data/'+x,ass.values)"
   ]
  }
 ],
 "metadata": {
  "anaconda-cloud": {},
  "kernelspec": {
   "display_name": "Python [Root]",
   "language": "python",
   "name": "Python [Root]"
  },
  "language_info": {
   "codemirror_mode": {
    "name": "ipython",
    "version": 3
   },
   "file_extension": ".py",
   "mimetype": "text/x-python",
   "name": "python",
   "nbconvert_exporter": "python",
   "pygments_lexer": "ipython3",
   "version": "3.5.2"
  }
 },
 "nbformat": 4,
 "nbformat_minor": 0
}
