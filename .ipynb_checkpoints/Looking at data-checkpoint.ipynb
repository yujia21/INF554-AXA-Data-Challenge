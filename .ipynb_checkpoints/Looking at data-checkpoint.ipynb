{
 "cells": [
  {
   "cell_type": "code",
   "execution_count": 11,
   "metadata": {
    "collapsed": true
   },
   "outputs": [],
   "source": [
    "# Import libraries\n",
    "import pandas as pd\n",
    "import numpy as np\n",
    "import matplotlib.pyplot as plt\n",
    "%matplotlib inline \n",
    "\n",
    "# README : If data/xx.npy does not exist, change to False\n",
    "imported_data=True"
   ]
  },
  {
   "cell_type": "code",
   "execution_count": 12,
   "metadata": {
    "collapsed": false
   },
   "outputs": [
    {
     "name": "stdout",
     "output_type": "stream",
     "text": [
      "Dates we have to predict : \n",
      "['2012-12-28' '2012-12-29' '2012-12-30' '2012-12-31' '2013-01-01'\n",
      " '2013-01-02' '2013-01-03']\n",
      "['2013-02-02' '2013-02-03' '2013-02-04' '2013-02-05' '2013-02-06'\n",
      " '2013-02-07' '2013-02-08']\n",
      "['2013-03-06' '2013-03-07' '2013-03-08' '2013-03-09' '2013-03-10'\n",
      " '2013-03-11' '2013-03-12']\n",
      "['2013-04-10' '2013-04-11' '2013-04-12' '2013-04-13' '2013-04-14'\n",
      " '2013-04-15' '2013-04-16']\n",
      "['2013-05-13' '2013-05-14' '2013-05-15' '2013-05-16' '2013-05-17'\n",
      " '2013-05-18' '2013-05-19']\n",
      "['2013-06-12' '2013-06-13' '2013-06-14' '2013-06-15' '2013-06-16'\n",
      " '2013-06-17' '2013-06-18']\n",
      "['2013-07-16' '2013-07-17' '2013-07-18' '2013-07-19' '2013-07-20'\n",
      " '2013-07-21' '2013-07-22']\n",
      "['2013-08-15' '2013-08-16' '2013-08-17' '2013-08-18' '2013-08-19'\n",
      " '2013-08-20' '2013-08-21']\n",
      "['2013-09-14' '2013-09-15' '2013-09-16' '2013-09-17' '2013-09-18'\n",
      " '2013-09-19' '2013-09-20']\n",
      "['2013-10-18' '2013-10-19' '2013-10-20' '2013-10-21' '2013-10-22'\n",
      " '2013-10-23' '2013-10-24']\n",
      "['2013-11-20' '2013-11-21' '2013-11-22' '2013-11-23' '2013-11-24'\n",
      " '2013-11-25' '2013-11-26']\n",
      "['2013-12-22' '2013-12-23' '2013-12-24' '2013-12-25' '2013-12-26'\n",
      " '2013-12-27' '2013-12-28']\n",
      "\n",
      "26 possible assignments : \n",
      "['CMS' 'Crises' 'Domicile' 'Gestion' 'Gestion - Accueil Telephonique'\n",
      " 'Gestion Assurances' 'Gestion Relation Clienteles' 'Gestion Renault'\n",
      " 'Japon' 'Médical' 'Nuit' 'RENAULT' 'Regulation Medicale' 'SAP' 'Services'\n",
      " 'Tech. Axa' 'Tech. Inter' 'Téléphonie' 'Tech. Total' 'Mécanicien' 'CAT'\n",
      " 'Manager' 'Gestion Clients' 'Gestion DZ' 'RTC' 'Prestataires']\n"
     ]
    }
   ],
   "source": [
    "#Read submission dates\n",
    "submission = pd.read_csv('submission.txt', sep='\\t')\n",
    "submission['DATE_ONLY'], submission['TIME'] = submission['DATE'].str.split(' ', 1).str\n",
    "print(\"Dates we have to predict : \")\n",
    "dates=submission['DATE_ONLY'].unique()\n",
    "i=0\n",
    "while i in range(len(dates)) :\n",
    "    print(dates[i:i+7])\n",
    "    i=i+7;\n",
    "print()\n",
    "# Possible services\n",
    "ass_list = submission['ASS_ASSIGNMENT'].unique()\n",
    "print(str(len(ass_list))+\" possible assignments : \")\n",
    "print(ass_list)"
   ]
  },
  {
   "cell_type": "code",
   "execution_count": 18,
   "metadata": {
    "collapsed": false
   },
   "outputs": [],
   "source": [
    "# PROBLEM\n",
    "# GIVEN: DATE, ASS_ASSIGNMENT\n",
    "# PREDICT : CSPL_CALLS\n",
    "\n",
    "if not imported_data: \n",
    "    fields = ['DATE', 'ASS_ASSIGNMENT','CSPL_CALLS']\n",
    "    df = pd.read_csv('train_2011_2012_2013.csv', sep=';', usecols=fields)"
   ]
  },
  {
   "cell_type": "code",
   "execution_count": 19,
   "metadata": {
    "collapsed": false
   },
   "outputs": [],
   "source": [
    "if not imported_data: \n",
    "    # Possible services\n",
    "    print(str(len(df['ASS_ASSIGNMENT'].unique()))+\" possible assignments : \")\n",
    "    print(df['ASS_ASSIGNMENT'].unique())\n",
    "\n",
    "    # Split datestamp into Date and Time\n",
    "    df['DATE_ONLY'], df['TIME'] = df['DATE'].str.split(' ', 1).str\n",
    "    df['TIME'] = df['TIME'].str[:5]"
   ]
  },
  {
   "cell_type": "code",
   "execution_count": null,
   "metadata": {
    "collapsed": false
   },
   "outputs": [],
   "source": [
    "# Look at days by service\n",
    "\n",
    "day=df[df['DATE_ONLY']=='2013-01-21']\n",
    "\n",
    "for x in df['ASS_ASSIGNMENT'].unique() :\n",
    "    ass=day[day['ASS_ASSIGNMENT']==x]\n",
    "    if (len(ass)==0) :\n",
    "        print(x+\" had no data\")\n",
    "    else:\n",
    "        if (len(ass[ass['CSPL_CALLS']!=0])==0):\n",
    "            print (x+\" had no calls\")\n",
    "        else:\n",
    "            ass['HOUR']=ass['TIME'].str[:5]\n",
    "            ass.plot(x='HOUR',y='CSPL_CALLS',title=x)"
   ]
  },
  {
   "cell_type": "code",
   "execution_count": null,
   "metadata": {
    "collapsed": false
   },
   "outputs": [],
   "source": [
    "print(\"Mean of each service : \")\n",
    "for x in submission['ASS_ASSIGNMENT'].unique() :\n",
    "    print(x+' : '+str(df[df['ASS_ASSIGNMENT']==x]['CSPL_CALLS'].mean()))"
   ]
  },
  {
   "cell_type": "code",
   "execution_count": 21,
   "metadata": {
    "collapsed": false
   },
   "outputs": [
    {
     "name": "stdout",
     "output_type": "stream",
     "text": [
      "Mean of each service by hour : \n"
     ]
    },
    {
     "data": {
      "text/plain": [
       "array([[Timestamp('2011-04-25 01:30:00'), 0],\n",
       "       [Timestamp('2011-04-25 01:30:00'), 0],\n",
       "       [Timestamp('2011-04-26 01:30:00'), 0],\n",
       "       ..., \n",
       "       [Timestamp('2013-10-13 23:00:00'), 0],\n",
       "       [Timestamp('2013-09-26 23:30:00'), 0],\n",
       "       [Timestamp('2013-09-26 23:30:00'), 0]], dtype=object)"
      ]
     },
     "execution_count": 21,
     "metadata": {},
     "output_type": "execute_result"
    }
   ],
   "source": [
    "print(\"Mean of each service by hour : \")\n",
    "\n",
    "time_list = np.sort(df['TIME'].unique()) #nparray\n",
    "time=np.arrange(48)/2\n",
    "\n",
    "for x in ass_list :\n",
    "    ave = np.empty(len(time_list))\n",
    "    ass = df[df['ASS_ASSIGNMENT']==x]\n",
    "\n",
    "    for i in range(len(time_list)) : \n",
    "        ave[i]=(ass[ass['TIME']==time_list[i]].mean())\n",
    "    \n",
    "    print(x)\n",
    "    plt.plot(time,ave)\n",
    "    plt.show()"
   ]
  },
  {
   "cell_type": "code",
   "execution_count": 20,
   "metadata": {
    "collapsed": true
   },
   "outputs": [],
   "source": [
    "# Imports data into dictionary\n",
    "data = {}\n",
    "for x in ass_list : \n",
    "    data[x] = np.load('data/'+x+'.npy')"
   ]
  }
 ],
 "metadata": {
  "anaconda-cloud": {},
  "kernelspec": {
   "display_name": "Python [Root]",
   "language": "python",
   "name": "Python [Root]"
  },
  "language_info": {
   "codemirror_mode": {
    "name": "ipython",
    "version": 3
   },
   "file_extension": ".py",
   "mimetype": "text/x-python",
   "name": "python",
   "nbconvert_exporter": "python",
   "pygments_lexer": "ipython3",
   "version": "3.5.2"
  }
 },
 "nbformat": 4,
 "nbformat_minor": 0
}
