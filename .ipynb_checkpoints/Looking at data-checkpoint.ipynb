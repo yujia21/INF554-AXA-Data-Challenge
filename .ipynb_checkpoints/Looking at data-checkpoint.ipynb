{
 "cells": [
  {
   "cell_type": "code",
   "execution_count": 1,
   "metadata": {
    "collapsed": true
   },
   "outputs": [],
   "source": [
    "# Import libraries\n",
    "import pandas as pd\n",
    "import numpy as np\n",
    "import matplotlib.pyplot as plt\n",
    "%matplotlib inline \n",
    "\n",
    "# README : If data/xx.npy does not exist, change to False\n",
    "imported_data=True"
   ]
  },
  {
   "cell_type": "code",
   "execution_count": 2,
   "metadata": {
    "collapsed": false
   },
   "outputs": [
    {
     "name": "stdout",
     "output_type": "stream",
     "text": [
      "Dates we have to predict : \n",
      "['2012-12-28' '2012-12-29' '2012-12-30' '2012-12-31' '2013-01-01'\n",
      " '2013-01-02' '2013-01-03']\n",
      "['2013-02-02' '2013-02-03' '2013-02-04' '2013-02-05' '2013-02-06'\n",
      " '2013-02-07' '2013-02-08']\n",
      "['2013-03-06' '2013-03-07' '2013-03-08' '2013-03-09' '2013-03-10'\n",
      " '2013-03-11' '2013-03-12']\n",
      "['2013-04-10' '2013-04-11' '2013-04-12' '2013-04-13' '2013-04-14'\n",
      " '2013-04-15' '2013-04-16']\n",
      "['2013-05-13' '2013-05-14' '2013-05-15' '2013-05-16' '2013-05-17'\n",
      " '2013-05-18' '2013-05-19']\n",
      "['2013-06-12' '2013-06-13' '2013-06-14' '2013-06-15' '2013-06-16'\n",
      " '2013-06-17' '2013-06-18']\n",
      "['2013-07-16' '2013-07-17' '2013-07-18' '2013-07-19' '2013-07-20'\n",
      " '2013-07-21' '2013-07-22']\n",
      "['2013-08-15' '2013-08-16' '2013-08-17' '2013-08-18' '2013-08-19'\n",
      " '2013-08-20' '2013-08-21']\n",
      "['2013-09-14' '2013-09-15' '2013-09-16' '2013-09-17' '2013-09-18'\n",
      " '2013-09-19' '2013-09-20']\n",
      "['2013-10-18' '2013-10-19' '2013-10-20' '2013-10-21' '2013-10-22'\n",
      " '2013-10-23' '2013-10-24']\n",
      "['2013-11-20' '2013-11-21' '2013-11-22' '2013-11-23' '2013-11-24'\n",
      " '2013-11-25' '2013-11-26']\n",
      "['2013-12-22' '2013-12-23' '2013-12-24' '2013-12-25' '2013-12-26'\n",
      " '2013-12-27' '2013-12-28']\n",
      "\n",
      "26 possible assignments : \n",
      "['CMS' 'Crises' 'Domicile' 'Gestion' 'Gestion - Accueil Telephonique'\n",
      " 'Gestion Assurances' 'Gestion Relation Clienteles' 'Gestion Renault'\n",
      " 'Japon' 'Médical' 'Nuit' 'RENAULT' 'Regulation Medicale' 'SAP' 'Services'\n",
      " 'Tech. Axa' 'Tech. Inter' 'Téléphonie' 'Tech. Total' 'Mécanicien' 'CAT'\n",
      " 'Manager' 'Gestion Clients' 'Gestion DZ' 'RTC' 'Prestataires']\n"
     ]
    }
   ],
   "source": [
    "#Read submission dates\n",
    "submission = pd.read_csv('submission.txt', sep='\\t')\n",
    "submission['DATE_ONLY'], submission['TIME'] = submission['DATE'].str.split(' ', 1).str\n",
    "print(\"Dates we have to predict : \")\n",
    "dates=submission['DATE_ONLY'].unique()\n",
    "i=0\n",
    "while i in range(len(dates)) :\n",
    "    print(dates[i:i+7])\n",
    "    i=i+7;\n",
    "print()\n",
    "# Possible services\n",
    "ass_list = submission['ASS_ASSIGNMENT'].unique()\n",
    "print(str(len(ass_list))+\" possible assignments : \")\n",
    "print(ass_list)"
   ]
  },
  {
   "cell_type": "code",
   "execution_count": 7,
   "metadata": {
    "collapsed": false
   },
   "outputs": [
    {
     "data": {
      "text/html": [
       "<div>\n",
       "<table border=\"1\" class=\"dataframe\">\n",
       "  <thead>\n",
       "    <tr style=\"text-align: right;\">\n",
       "      <th></th>\n",
       "      <th>DATETIME</th>\n",
       "      <th>DAY_OFF</th>\n",
       "      <th>CSPL_CALLS</th>\n",
       "      <th>ASS_ASSIGNMENT</th>\n",
       "    </tr>\n",
       "  </thead>\n",
       "  <tbody>\n",
       "  </tbody>\n",
       "</table>\n",
       "</div>"
      ],
      "text/plain": [
       "Empty DataFrame\n",
       "Columns: [DATETIME, DAY_OFF, CSPL_CALLS, ASS_ASSIGNMENT]\n",
       "Index: []"
      ]
     },
     "execution_count": 7,
     "metadata": {},
     "output_type": "execute_result"
    }
   ],
   "source": [
    "# PROBLEM\n",
    "# GIVEN: DATE, ASS_ASSIGNMENT\n",
    "# PREDICT : CSPL_CALLS\n",
    "if not imported_data: \n",
    "    fields = ['DATE', 'ASS_ASSIGNMENT','CSPL_CALLS']\n",
    "    df = pd.read_csv('train_2011_2012_2013.csv', sep=';', usecols=fields)\n",
    "    df.columns = ['DATETIME','CSPL_CALLS','ASS_ASSIGNMENT']\n",
    "    print(\"Original length : \"+str(len(df)))\n",
    "    \n",
    "    # Sum over moments with multiple data for same assignment\n",
    "    df=df.groupby(['DATETIME','ASS_ASSIGNMENT']).sum()\n",
    "    df=df.reset_index()\n",
    "    print(\"Compressed length : \"+str(len(df)))\n",
    "\n",
    "fields = ['DATE', 'DAY_DS', 'ASS_ASSIGNMENT','CSPL_CALLS']\n",
    "df = pd.read_csv('train_2011_2012_2013.csv', sep=';', usecols=fields)\n",
    "\n",
    "df.columns = ['DATETIME', 'DAY_DS','CSPL_CALLS','ASS_ASSIGNMENT']\n",
    "df[df['DAY_OFF']!=0]"
   ]
  },
  {
   "cell_type": "code",
   "execution_count": 19,
   "metadata": {
    "collapsed": false
   },
   "outputs": [],
   "source": [
    "if not imported_data: \n",
    "    # Possible services\n",
    "    print(str(len(df['ASS_ASSIGNMENT'].unique()))+\" possible assignments : \")\n",
    "    print(df['ASS_ASSIGNMENT'].unique())\n",
    "\n",
    "    # Split datestamp into Date and Time\n",
    "    df['DATE'], df['TIME'] = df['DATETIME'].str.split(' ', 1).str\n",
    "    df['TIME'] = df['TIME'].str[:5]"
   ]
  },
  {
   "cell_type": "code",
   "execution_count": null,
   "metadata": {
    "collapsed": false
   },
   "outputs": [],
   "source": [
    "# Look at days by service\n",
    "\n",
    "day=df[df['DATE']=='2013-01-21']\n",
    "\n",
    "for x in df['ASS_ASSIGNMENT'].unique() :\n",
    "    ass=day[day['ASS_ASSIGNMENT']==x]\n",
    "    if (len(ass)==0) :\n",
    "        print(x+\" had no data\")\n",
    "    else:\n",
    "        if (len(ass[ass['CSPL_CALLS']!=0])==0):\n",
    "            print (x+\" had no calls\")\n",
    "        else:\n",
    "            ass['HOUR']=ass['TIME'].str[:5]\n",
    "            ass.plot(x='HOUR',y='CSPL_CALLS',title=x)"
   ]
  },
  {
   "cell_type": "code",
   "execution_count": null,
   "metadata": {
    "collapsed": false
   },
   "outputs": [],
   "source": [
    "print(\"Mean of each service : \")\n",
    "for x in submission['ASS_ASSIGNMENT'].unique() :\n",
    "    print(x+' : '+str(df[df['ASS_ASSIGNMENT']==x]['CSPL_CALLS'].mean()))"
   ]
  },
  {
   "cell_type": "code",
   "execution_count": 21,
   "metadata": {
    "collapsed": false
   },
   "outputs": [
    {
     "name": "stdout",
     "output_type": "stream",
     "text": [
      "Mean of each service by hour : \n"
     ]
    },
    {
     "data": {
      "text/plain": [
       "array([[Timestamp('2011-04-25 01:30:00'), 0],\n",
       "       [Timestamp('2011-04-25 01:30:00'), 0],\n",
       "       [Timestamp('2011-04-26 01:30:00'), 0],\n",
       "       ..., \n",
       "       [Timestamp('2013-10-13 23:00:00'), 0],\n",
       "       [Timestamp('2013-09-26 23:30:00'), 0],\n",
       "       [Timestamp('2013-09-26 23:30:00'), 0]], dtype=object)"
      ]
     },
     "execution_count": 21,
     "metadata": {},
     "output_type": "execute_result"
    }
   ],
   "source": [
    "print(\"Mean of each service by hour : \")\n",
    "\n",
    "time_list = np.sort(df['TIME'].unique()) #nparray\n",
    "time=np.arrange(48)/2\n",
    "\n",
    "for x in ass_list :\n",
    "    ave = np.empty(len(time_list))\n",
    "    ass = df[df['ASS_ASSIGNMENT']==x]\n",
    "\n",
    "    for i in range(len(time_list)) : \n",
    "        ave[i]=(ass[ass['TIME']==time_list[i]].mean())\n",
    "    \n",
    "    print(x)\n",
    "    plt.plot(time,ave)\n",
    "    plt.show()"
   ]
  },
  {
   "cell_type": "code",
   "execution_count": 20,
   "metadata": {
    "collapsed": true
   },
   "outputs": [],
   "source": [
    "# Imports data into dictionary\n",
    "data = {}\n",
    "for x in ass_list : \n",
    "    data[x] = np.load('data/'+x+'.npy')"
   ]
  },
  {
   "cell_type": "code",
   "execution_count": null,
   "metadata": {
    "collapsed": true
   },
   "outputs": [],
   "source": [
    "# Histogram by half hour of number of calls\n",
    "''' \n",
    "Evaluating error for : CMS\n",
    "error : \n",
    "0.145122541079\n",
    "\n",
    "Evaluating error for : Crises\n",
    "error : \n",
    "0.362806352697\n",
    "\n",
    "Evaluating error for : Domicile\n",
    "error : \n",
    "807.01361648\n",
    "\n",
    "Evaluating error for : Gestion\n",
    "error : \n",
    "0.575652746279\n",
    "\n",
    "Evaluating error for : Gestion - Accueil Telephonique\n",
    "error : \n",
    "75.371414895\n",
    "\n",
    "Evaluating error for : Gestion Assurances\n",
    "error : \n",
    "2.92195807029\n",
    "\n",
    "Evaluating error for : Gestion Relation Clienteles\n",
    "error : \n",
    "0.661470246613\n",
    "\n",
    "Evaluating error for : Gestion Renault\n",
    "error : \n",
    "0.440205041272\n",
    "\n",
    "Evaluating error for : Japon\n",
    "error : \n",
    "2.78771942862\n",
    "\n",
    "Evaluating error for : Médical\n",
    "error : \n",
    "19.4602857317\n",
    "\n",
    "Evaluating error for : Nuit\n",
    "error : \n",
    "50.6470944865\n",
    "\n",
    "Evaluating error for : RENAULT\n",
    "error : \n",
    "11.3901631408\n",
    "\n",
    "Evaluating error for : Regulation Medicale\n",
    "error : \n",
    "2.52425392845\n",
    "\n",
    "Evaluating error for : SAP\n",
    "error : \n",
    "28.9055696012\n",
    "\n",
    "Evaluating error for : Services\n",
    "error : \n",
    "63.6290530022\n",
    "\n",
    "Evaluating error for : Tech. Axa\n",
    "error : \n",
    "1656.83161221\n",
    "\n",
    "Evaluating error for : Tech. Inter\n",
    "error : \n",
    "10.2127623493\n",
    "\n",
    "Evaluating error for : Téléphonie\n",
    "error : \n",
    "41.5697056946\n",
    "\n",
    "Evaluating error for : Tech. Total\n",
    "error : \n",
    "139.749622963\n",
    "\n",
    "Evaluating error for : Mécanicien\n",
    "error : \n",
    "0.402839697143\n",
    "\n",
    "Evaluating error for : CAT\n",
    "error : \n",
    "1112850.50988\n",
    "\n",
    "Evaluating error for : Manager\n",
    "error : \n",
    "0.90943459076\n",
    "\n",
    "Evaluating error for : Gestion Clients\n",
    "error : \n",
    "0.596533859122\n",
    "\n",
    "Evaluating error for : Gestion DZ\n",
    "error : \n",
    "0.22557481579\n",
    "\n",
    "Evaluating error for : RTC\n",
    "error : \n",
    "9.16476471874\n",
    "\n",
    "Evaluating error for : Prestataires\n",
    "error : \n",
    "0.00483741803596\n",
    "\n",
    "total error : \n",
    "1115777.01395\n",
    "'''"
   ]
  }
 ],
 "metadata": {
  "anaconda-cloud": {},
  "kernelspec": {
   "display_name": "Python [Root]",
   "language": "python",
   "name": "Python [Root]"
  },
  "language_info": {
   "codemirror_mode": {
    "name": "ipython",
    "version": 3
   },
   "file_extension": ".py",
   "mimetype": "text/x-python",
   "name": "python",
   "nbconvert_exporter": "python",
   "pygments_lexer": "ipython3",
   "version": "3.5.2"
  }
 },
 "nbformat": 4,
 "nbformat_minor": 0
}
