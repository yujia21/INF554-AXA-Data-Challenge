{
 "cells": [
  {
   "cell_type": "code",
   "execution_count": 50,
   "metadata": {
    "collapsed": true
   },
   "outputs": [],
   "source": [
    "# Import libraries\n",
    "import pandas as pd\n",
    "import numpy as np\n",
    "import matplotlib.pyplot as plt\n",
    "import datetime\n",
    "from datetime import datetime\n",
    "import time\n",
    "%matplotlib inline \n",
    "\n",
    "#TODO : CHANGE ACCORDING TO NEEDS\n",
    "imported_data=True # True if data/... already exists\n",
    "evaluation=True # True if want to evaluate error of machine learning algo\n",
    "submit=True # True if want to replace submission file by new values"
   ]
  },
  {
   "cell_type": "code",
   "execution_count": 5,
   "metadata": {
    "collapsed": false
   },
   "outputs": [],
   "source": [
    "# BEGINNING OF LEARNING CODE\n",
    "# Read submission data\n",
    "submission = pd.read_csv('submission.txt', sep='\\t')\n",
    "\n",
    "# Stock list of services to predict\n",
    "ass_list=submission['ASS_ASSIGNMENT'].unique()\n",
    "\n",
    "# Imports data into dictionary\n",
    "data = {}\n",
    "for x in ass_list : \n",
    "    data[x] = np.load('data/'+x+'.npy')"
   ]
  },
  {
   "cell_type": "code",
   "execution_count": 31,
   "metadata": {
    "collapsed": true
   },
   "outputs": [],
   "source": [
    "# data is ambient dictionary in this script\n",
    "\n",
    "# predict takes in \"dates\" which is a list of dates (continuous)\n",
    "# predict returns a dictionary predicted where:\n",
    "# keys = services, values = numpy arrays (TimeStamp, Calls Received)\n",
    "\n",
    "# predict contains a machine learning algorithm that does : \n",
    "# 1. Preprocessing - feature reduction + engineering features if necessary\n",
    "# 2. Learning - regression, random forest, neural network, etc.\n",
    "\n",
    "def predict(dates) : \n",
    "    #Initialize and clear dictionary to return\n",
    "    predicted={}\n",
    "    predicted.clear()\n",
    "\n",
    "    \n",
    "    \n",
    "    \n",
    "    \n",
    "    # EXAMPLE PREDICTION\n",
    "    predicted['CMS']=np.array([[datetime.strptime('2012-12-28 00:00:00.000', \"%Y-%m-%d %H:%M:%S.%f\"),1], \n",
    "                           [datetime.strptime('2012-12-28 00:30:00.000', \"%Y-%m-%d %H:%M:%S.%f\"),1]])\n",
    "    # TODO : CODE HERE"
   ]
  },
  {
   "cell_type": "code",
   "execution_count": 115,
   "metadata": {
    "collapsed": false
   },
   "outputs": [],
   "source": [
    "if (evaluation) : \n",
    "    # INSERT FRAPY'S EVALUATION FUNCTION HERE\n",
    "    # EXAMPLE DATE\n",
    "    dates = ['2011-12-28' '2011-12-29' '2011-12-30' '2011-12-31' '2012-01-01' '2012-01-02' '2012-01-03']\n",
    "\n",
    "    # Call predict\n",
    "    predict(dates)\n",
    "\n",
    "\n",
    "    \n",
    "    print(\"Error for dates : \")\n",
    "    print(dates)\n",
    "    #plt.plot(time,ave)\n",
    "    #plt.show()"
   ]
  },
  {
   "cell_type": "code",
   "execution_count": 116,
   "metadata": {
    "collapsed": false
   },
   "outputs": [],
   "source": [
    "# UPDATE SUBMISSIONS.TXT\n",
    "# ASS_ASSIGNMENT : because not every service appears at any time, \n",
    "# have to check values exist in submissions.txt that we received,\n",
    "# we cannot construct new dataframe directly from predicted\n",
    "\n",
    "if (submit) : \n",
    "    # List of dates in submission.txt file\n",
    "    dates=submission['DATE'].unique()\n",
    "    \n",
    "    # Call predict function\n",
    "    predict(dates)\n",
    "    \n",
    "    #Rewrite submissions dataframe\n",
    "    for x in ass_list : \n",
    "        if (x in predicted) : # x=assignment\n",
    "            for row in predicted[x] : # row=[date,calls]\n",
    "                # Convert timestamp to yyyy-mm-dd hh:mm:ss.xxx\n",
    "                date = row[0].strftime(\"%Y-%m-%d %H:%M:%S.%f\")[:-3]\n",
    "                submission.loc[(submission['DATE']==date)&(submission['ASS_ASSIGNMENT']==x), ['prediction']]=row[1]\n",
    "\n",
    "                #better way to loop through this?\n",
    "    # EXPORT to submission.txt : \n",
    "    np.savetxt('submission1.txt',submission.values, comments='', header='DATE\\tASS_ASSIGNMENT\\tprediction', delimiter='\\t', fmt='%s %s %d')"
   ]
  }
 ],
 "metadata": {
  "anaconda-cloud": {},
  "kernelspec": {
   "display_name": "Python [Root]",
   "language": "python",
   "name": "Python [Root]"
  },
  "language_info": {
   "codemirror_mode": {
    "name": "ipython",
    "version": 3
   },
   "file_extension": ".py",
   "mimetype": "text/x-python",
   "name": "python",
   "nbconvert_exporter": "python",
   "pygments_lexer": "ipython3",
   "version": "3.5.2"
  }
 },
 "nbformat": 4,
 "nbformat_minor": 0
}
