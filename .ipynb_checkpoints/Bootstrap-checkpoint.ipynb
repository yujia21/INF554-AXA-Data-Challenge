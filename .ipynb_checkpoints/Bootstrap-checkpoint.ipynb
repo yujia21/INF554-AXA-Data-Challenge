{
 "cells": [
  {
   "cell_type": "code",
   "execution_count": 118,
   "metadata": {
    "collapsed": true
   },
   "outputs": [],
   "source": [
    "# Import libraries\n",
    "import pandas as pd\n",
    "import numpy as np\n",
    "import matplotlib.pyplot as plt\n",
    "import datetime\n",
    "from datetime import datetime\n",
    "import time\n",
    "%matplotlib inline \n",
    "\n",
    "#TODO : CHANGE ACCORDING TO NEEDS\n",
    "imported_data=True # True if data/... already exists\n",
    "evaluation=True # True if want to evaluate error of machine learning algo\n",
    "submit=True # True if want to replace submission file by new values"
   ]
  },
  {
   "cell_type": "code",
   "execution_count": 119,
   "metadata": {
    "collapsed": false
   },
   "outputs": [],
   "source": [
    "#Import data if not already done\n",
    "if (not imported_data) : \n",
    "    import ImportData"
   ]
  },
  {
   "cell_type": "code",
   "execution_count": 5,
   "metadata": {
    "collapsed": false
   },
   "outputs": [],
   "source": [
    "# BEGINNING OF LEARNING CODE\n",
    "# Read submission data\n",
    "submission = pd.read_csv('submission.txt', sep='\\t')\n",
    "\n",
    "# Stock list of services to predict\n",
    "ass_list=submission['ASS_ASSIGNMENT'].unique()\n",
    "\n",
    "# Imports data into dictionary\n",
    "data = {}\n",
    "for x in ass_list : \n",
    "    data[x] = np.load('data/'+x+'.npy')"
   ]
  },
  {
   "cell_type": "code",
   "execution_count": 31,
   "metadata": {
    "collapsed": true
   },
   "outputs": [],
   "source": [
    "# data is ambient dictionary in this script\n",
    "\n",
    "# predict takes in \"dates\" which is a list of dates (continuous)\n",
    "# predict returns a dictionary predicted where:\n",
    "# keys = services, values = numpy arrays (TimeStamp, Calls Received)\n",
    "\n",
    "# predict contains a machine learning algorithm that does : \n",
    "# 1. Preprocessing - feature reduction + engineering features if necessary\n",
    "# 2. Learning - regression, random forest, neural network, etc.\n",
    "\n",
    "def predict(dates) : \n",
    "    #Initialize and clear dictionary to return\n",
    "    predicted={}\n",
    "    predicted.clear()\n",
    "\n",
    "    # TODO : CODE HERE\n",
    "    \n",
    "    \n",
    "    \n",
    "    \n",
    "    return predicted"
   ]
  },
  {
   "cell_type": "code",
   "execution_count": 115,
   "metadata": {
    "collapsed": false
   },
   "outputs": [],
   "source": [
    "# Function dates_to_datetime creates datetime stamps at every half hour from a list of date\n",
    "def dates_to_datetime(dates) : \n",
    "    datetimes=[]\n",
    "    times=[\"00:00:00.000\", \"00:30:00.000\", \"01:00:00.000\", \"01:30:00.000\", \n",
    "           \"02:00:00.000\", \"02:30:00.000\", \"03:00:00.000\", \"03:30:00.000\", \n",
    "           \"04:00:00.000\", \"04:30:00.000\", \"05:00:00.000\", \"05:30:00.000\", \n",
    "           \"06:00:00.000\", \"06:30:00.000\", \"07:00:00.000\", \"07:30:00.000\", \n",
    "           \"08:00:00.000\", \"08:30:00.000\", \"09:00:00.000\", \"09:30:00.000\", \n",
    "           \"10:00:00.000\", \"10:30:00.000\", \"11:00:00.000\", \"11:30:00.000\", \n",
    "           \"12:00:00.000\", \"12:30:00.000\", \"13:00:00.000\", \"13:30:00.000\", \n",
    "           \"14:00:00.000\", \"14:30:00.000\", \"15:00:00.000\", \"15:30:00.000\", \n",
    "           \"16:00:00.000\", \"16:30:00.000\", \"17:00:00.000\", \"17:30:00.000\", \n",
    "           \"18:00:00.000\", \"18:30:00.000\", \"19:00:00.000\", \"19:30:00.000\", \n",
    "           \"20:00:00.000\", \"20:30:00.000\", \"21:00:00.000\", \"21:30:00.000\", \n",
    "           \"22:00:00.000\", \"22:30:00.000\", \"23:00:00.000\", \"23:30:00.000\"]\n",
    "    for date in dates : \n",
    "        for time in times : \n",
    "            datetime_entry=str(date+' '+time)\n",
    "            datetimes.append(datetime.strptime(datetime_entry, \"%Y-%m-%d %H:%M:%S.%f\"),)\n",
    "    return datetimes\n",
    "\n",
    "# Error function as defined in project\n",
    "def linex(y_true,y_pred) : \n",
    "    a=0.1\n",
    "    assert(len(y_true)==len(y_pred))\n",
    "    diff=np.subtract(y_true,y_pred)\n",
    "    return np.exp(a*diff)-a*diff-np.ones(len(y_true))"
   ]
  },
  {
   "cell_type": "code",
   "execution_count": null,
   "metadata": {
    "collapsed": true
   },
   "outputs": [],
   "source": [
    "#EVALUATION\n",
    "if (evaluation) : \n",
    "    # EXAMPLE DATE\n",
    "    dates = ['2011-12-28', '2011-12-29', '2011-12-30', '2011-12-31', '2012-01-01', '2012-01-02', '2012-01-03']\n",
    "    fulldates=dates_to_datetime(dates) #with timestamps, for predict function\n",
    "    \n",
    "    # Call predict\n",
    "    predicted=predict(fulldates)\n",
    "\n",
    "    # Dictionaries for true and predicted values\n",
    "    y_true={}\n",
    "    y_pred={}\n",
    "    y_true.clear()\n",
    "    y_pred.clear()\n",
    "    err={}\n",
    "    err.clear()\n",
    "    err_tot=0\n",
    "    len_tot=0\n",
    "    \n",
    "    # Stocking and printing error by service where there is data\n",
    "    for x in ass_list : \n",
    "        y_true[x]=[]\n",
    "        y_pred[x]=[]\n",
    "        print(\"Evaluating error for : \"+x)\n",
    "        for t in fulldates : # for date\n",
    "            for i in range(len(data[x])) : \n",
    "                if (data[x][i,0]==t) : # if date found in original data\n",
    "                    y_true[x].append(data[x][i,1])\n",
    "                    for j in range(len(predicted[x])) : #find date in predicted\n",
    "                        if (str(predicted[x][j,0])==str(t)) : \n",
    "                            y_pred[x].append(predicted[x][j,1])\n",
    "                            break # add predicted one time\n",
    "                    break # add original one time\n",
    "        err[x]=linex(y_true[x],y_pred[x])\n",
    "        err_tot+=np.sum(err[x])\n",
    "        len_tot+=len(err[x])\n",
    "        #print(\"vector error : \")\n",
    "        #print(err[x])\n",
    "        print(\"error : \")\n",
    "        print(np.sum(err[x]))\n",
    "        print()\n",
    "    print(\"total error : \")\n",
    "    print(err_tot)"
   ]
  },
  {
   "cell_type": "code",
   "execution_count": 116,
   "metadata": {
    "collapsed": false
   },
   "outputs": [],
   "source": [
    "# UPDATE SUBMISSIONS.TXT\n",
    "# ASS_ASSIGNMENT : because not every service appears at any time, \n",
    "# have to check values exist in submissions.txt that we received,\n",
    "# we cannot construct new dataframe directly from predicted\n",
    "\n",
    "if (submit) : \n",
    "    # List of dates in submission.txt file\n",
    "    dates=[]\n",
    "    for date in submission['DATE'].unique() : \n",
    "        dates.append(datetime.strptime(date, \"%Y-%m-%d %H:%M:%S.%f\"))\n",
    "    \n",
    "    # Call predict function\n",
    "    predicted=predict(dates)\n",
    "    \n",
    "    #Rewrite submissions dataframe\n",
    "    for x in ass_list : \n",
    "        print(\"Stocking predictions for \"+x)\n",
    "        if (x in predicted) : # x=assignment\n",
    "            for row in predicted[x] : # row=[date,calls]\n",
    "                # Convert timestamp to yyyy-mm-dd hh:mm:ss.xxx\n",
    "                date = row[0].strftime(\"%Y-%m-%d %H:%M:%S.%f\")[:-3]\n",
    "                submission.loc[(submission['DATE']==date)&(submission['ASS_ASSIGNMENT']==x), ['prediction']]=row[1]\n",
    "\n",
    "                #better way to loop through this?\n",
    "    \n",
    "    fh = open(\"submission1.txt\",\"w\")\n",
    "    fh.write(\"DATE\\tASS_ASSIGNMENT\\tprediction\")\n",
    "    for index, row in submission.iterrows(): \n",
    "        fh.write(\"\\n\")\n",
    "        fh.write(str(row[0])+'\\t'+str(row[1])+'\\t'+str(row[2]))\n",
    "    fh.close()\n",
    "    print(\"Text file written!\")"
   ]
  }
 ],
 "metadata": {
  "anaconda-cloud": {},
  "kernelspec": {
   "display_name": "Python [Root]",
   "language": "python",
   "name": "Python [Root]"
  },
  "language_info": {
   "codemirror_mode": {
    "name": "ipython",
    "version": 3
   },
   "file_extension": ".py",
   "mimetype": "text/x-python",
   "name": "python",
   "nbconvert_exporter": "python",
   "pygments_lexer": "ipython3",
   "version": "3.5.2"
  }
 },
 "nbformat": 4,
 "nbformat_minor": 0
}
